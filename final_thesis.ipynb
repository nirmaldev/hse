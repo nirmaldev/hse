{
 "cells": [
  {
   "cell_type": "markdown",
   "id": "cad9d7b2-2914-44a2-8004-fb10df9483b6",
   "metadata": {},
   "source": [
    "#### 1. Importing Required Libraries"
   ]
  },
  {
   "cell_type": "code",
   "execution_count": 2,
   "id": "a329ff04-cc83-4fb3-9f65-e6153f89df3b",
   "metadata": {},
   "outputs": [],
   "source": [
    "# !pip install deep_translator googletrans spacy huggingface_hub catboost"
   ]
  },
  {
   "cell_type": "code",
   "execution_count": 3,
   "id": "58621c9f-71a5-47e1-8858-b04406cabc94",
   "metadata": {},
   "outputs": [],
   "source": [
    "# !python -m spacy download ru_core_news_sm"
   ]
  },
  {
   "cell_type": "code",
   "execution_count": 4,
   "id": "d28b7065-8148-403c-9ce9-af493a8d9791",
   "metadata": {},
   "outputs": [
    {
     "name": "stderr",
     "output_type": "stream",
     "text": [
      "C:\\ProgramData\\anaconda3\\Lib\\site-packages\\paramiko\\pkey.py:82: CryptographyDeprecationWarning: TripleDES has been moved to cryptography.hazmat.decrepit.ciphers.algorithms.TripleDES and will be removed from this module in 48.0.0.\n",
      "  \"cipher\": algorithms.TripleDES,\n",
      "C:\\ProgramData\\anaconda3\\Lib\\site-packages\\paramiko\\transport.py:219: CryptographyDeprecationWarning: Blowfish has been moved to cryptography.hazmat.decrepit.ciphers.algorithms.Blowfish and will be removed from this module in 45.0.0.\n",
      "  \"class\": algorithms.Blowfish,\n",
      "C:\\ProgramData\\anaconda3\\Lib\\site-packages\\paramiko\\transport.py:243: CryptographyDeprecationWarning: TripleDES has been moved to cryptography.hazmat.decrepit.ciphers.algorithms.TripleDES and will be removed from this module in 48.0.0.\n",
      "  \"class\": algorithms.TripleDES,\n"
     ]
    },
    {
     "name": "stdout",
     "output_type": "stream",
     "text": [
      "WARNING:tensorflow:From C:\\Users\\Nirmal\\AppData\\Roaming\\Python\\Python312\\site-packages\\tf_keras\\src\\losses.py:2976: The name tf.losses.sparse_softmax_cross_entropy is deprecated. Please use tf.compat.v1.losses.sparse_softmax_cross_entropy instead.\n",
      "\n"
     ]
    }
   ],
   "source": [
    "import pandas as pd\n",
    "import numpy as np\n",
    "import re\n",
    "import matplotlib.pyplot as plt\n",
    "import seaborn as sns\n",
    "from sklearn.impute import SimpleImputer, KNNImputer\n",
    "from sklearn.feature_extraction.text import TfidfVectorizer\n",
    "from sklearn.decomposition import TruncatedSVD\n",
    "from scipy.sparse import hstack\n",
    "from scipy.stats import zscore\n",
    "from sklearn.preprocessing import LabelEncoder, StandardScaler\n",
    "from sklearn.model_selection import train_test_split, cross_val_score, GridSearchCV\n",
    "from sklearn.metrics import classification_report, accuracy_score, roc_auc_score, f1_score\n",
    "from imblearn.over_sampling import SMOTE\n",
    "from tensorflow.keras.models import Sequential\n",
    "from tensorflow.keras.layers import LSTM, Dense, Embedding, Dropout, Conv1D, MaxPooling1D, GlobalAveragePooling1D\n",
    "from googletrans import Translator\n",
    "from sklearn.ensemble import RandomForestClassifier\n",
    "import xgboost as xgb\n",
    "from xgboost import XGBClassifier\n",
    "import nltk\n",
    "import gensim\n",
    "from transformers import BertTokenizer, TFBertForSequenceClassification\n",
    "from nltk.corpus import stopwords\n",
    "import spacy\n",
    "from collections import Counter\n",
    "import torch\n",
    "from transformers import BertTokenizer, BertForTokenClassification, pipeline\n",
    "from catboost import CatBoostClassifier"
   ]
  },
  {
   "cell_type": "code",
   "execution_count": 5,
   "id": "3e88f1cd-e79a-40ae-b2b8-2879e727192d",
   "metadata": {},
   "outputs": [
    {
     "name": "stderr",
     "output_type": "stream",
     "text": [
      "[nltk_data] Downloading package stopwords to\n",
      "[nltk_data]     C:\\Users\\Nirmal\\AppData\\Roaming\\nltk_data...\n",
      "[nltk_data]   Package stopwords is already up-to-date!\n"
     ]
    }
   ],
   "source": [
    "# Download Russian stopwords\n",
    "nltk.download(\"stopwords\")\n",
    "from nltk.corpus import stopwords\n",
    "russian_stopwords = stopwords.words(\"russian\")"
   ]
  },
  {
   "cell_type": "code",
   "execution_count": null,
   "id": "2336222c-a780-442b-bbed-54b354a40ae8",
   "metadata": {},
   "outputs": [],
   "source": [
    "# Load the spaCy model for Russian\n",
    "nlp = spacy.load(\"ru_core_news_sm\")"
   ]
  },
  {
   "cell_type": "markdown",
   "id": "0d8df2f2-fb2f-48e3-a2ac-a06d99ae1b24",
   "metadata": {},
   "source": [
    "#### 2. Loading the Data"
   ]
  },
  {
   "cell_type": "code",
   "execution_count": 7,
   "id": "e3b0c231-db0c-426a-bcf8-4aa77fb09df9",
   "metadata": {},
   "outputs": [],
   "source": [
    "# Load dataset\n",
    "file_path = \"thesis.xlsx\"\n",
    "df = pd.read_excel(file_path)"
   ]
  },
  {
   "cell_type": "markdown",
   "id": "f913ed42-4852-4e50-a9cc-a76420d0d7ba",
   "metadata": {},
   "source": [
    " "
   ]
  },
  {
   "cell_type": "markdown",
   "id": "69fc20f1-358d-4def-84cf-630949825b16",
   "metadata": {},
   "source": [
    "#### 3. Data Cleaning and Preprocessing"
   ]
  },
  {
   "cell_type": "code",
   "execution_count": 9,
   "id": "bcc4ad72-c238-4cdd-9e54-0d0e465fbb0e",
   "metadata": {},
   "outputs": [
    {
     "name": "stderr",
     "output_type": "stream",
     "text": [
      "C:\\Users\\Nirmal\\AppData\\Local\\Temp\\ipykernel_23372\\2882086929.py:2: UserWarning: Parsing dates in %d.%m.%Y format when dayfirst=False (the default) was specified. Pass `dayfirst=True` or specify a format to silence this warning.\n",
      "  df[\"dob\"] = pd.to_datetime(df[\"dob\"], errors=\"coerce\")\n",
      "C:\\Users\\Nirmal\\AppData\\Local\\Temp\\ipykernel_23372\\2882086929.py:3: UserWarning: Parsing dates in %d.%m.%Y %H:%M:%S format when dayfirst=False (the default) was specified. Pass `dayfirst=True` or specify a format to silence this warning.\n",
      "  df[\"create_date_time\"] = pd.to_datetime(df[\"create_date_time\"], errors=\"coerce\")\n",
      "C:\\Users\\Nirmal\\AppData\\Local\\Temp\\ipykernel_23372\\2882086929.py:6: FutureWarning: A value is trying to be set on a copy of a DataFrame or Series through chained assignment using an inplace method.\n",
      "The behavior will change in pandas 3.0. This inplace method will never work because the intermediate object on which we are setting values always behaves as a copy.\n",
      "\n",
      "For example, when doing 'df[col].method(value, inplace=True)', try using 'df.method({col: value}, inplace=True)' or df[col] = df[col].method(value) instead, to perform the operation inplace on the original object.\n",
      "\n",
      "\n",
      "  df[\"age\"].fillna(df[\"age\"].median(), inplace=True)\n"
     ]
    }
   ],
   "source": [
    "# Calculate Age (based on dob and create_date_time)\n",
    "df[\"dob\"] = pd.to_datetime(df[\"dob\"], errors=\"coerce\")\n",
    "df[\"create_date_time\"] = pd.to_datetime(df[\"create_date_time\"], errors=\"coerce\")\n",
    "df[\"age\"] = (df[\"create_date_time\"] - df[\"dob\"]).dt.days // 365\n",
    "df = df.drop(columns=[\"dob\", \"create_date_time\"])\n",
    "df[\"age\"].fillna(df[\"age\"].median(), inplace=True)"
   ]
  },
  {
   "cell_type": "code",
   "execution_count": 10,
   "id": "d576fa80-1045-476a-a8aa-75ec65837d06",
   "metadata": {},
   "outputs": [
    {
     "name": "stdout",
     "output_type": "stream",
     "text": [
      "sex\n",
      "rhythm\n",
      "p_wave_1\n",
      "p_wave_2\n",
      "p_wave_3\n",
      "t_wave_1\n",
      "t_wave_2\n",
      "t_wave_3\n",
      "t_wave_4\n",
      "qrs\n",
      "qrs_interval\n",
      "pq_interval\n",
      "segment\n",
      "systole_duration_QRST\n",
      "blood_group\n",
      "rhesus_factor\n",
      "description\n",
      "bundle_branch_block\n",
      "episode\n",
      "dead\n"
     ]
    }
   ],
   "source": [
    "# Understanding categorical_columns and numerical_columns\n",
    "categorical_columns = df.select_dtypes(include=['object']).columns\n",
    "for col in categorical_columns:\n",
    "    print(col)"
   ]
  },
  {
   "cell_type": "code",
   "execution_count": 11,
   "id": "d6fca2cd-0a7a-4bc1-a9a3-b5c1b3c191bd",
   "metadata": {},
   "outputs": [
    {
     "name": "stdout",
     "output_type": "stream",
     "text": [
      "patients_id\n",
      "heart_rate\n",
      "glucose\n",
      "cholesterol\n",
      "age\n"
     ]
    }
   ],
   "source": [
    "numerical_columns = df.select_dtypes(include=['number']).columns\n",
    "for col in numerical_columns:\n",
    "    print(col)"
   ]
  },
  {
   "cell_type": "code",
   "execution_count": 12,
   "id": "bd06aa1d-1d1c-46af-9dc0-eab48c2448bb",
   "metadata": {},
   "outputs": [
    {
     "data": {
      "text/html": [
       "<div>\n",
       "<style scoped>\n",
       "    .dataframe tbody tr th:only-of-type {\n",
       "        vertical-align: middle;\n",
       "    }\n",
       "\n",
       "    .dataframe tbody tr th {\n",
       "        vertical-align: top;\n",
       "    }\n",
       "\n",
       "    .dataframe thead th {\n",
       "        text-align: right;\n",
       "    }\n",
       "</style>\n",
       "<table border=\"1\" class=\"dataframe\">\n",
       "  <thead>\n",
       "    <tr style=\"text-align: right;\">\n",
       "      <th></th>\n",
       "      <th>patients_id</th>\n",
       "      <th>heart_rate</th>\n",
       "      <th>glucose</th>\n",
       "      <th>cholesterol</th>\n",
       "      <th>age</th>\n",
       "    </tr>\n",
       "  </thead>\n",
       "  <tbody>\n",
       "    <tr>\n",
       "      <th>count</th>\n",
       "      <td>146552.000000</td>\n",
       "      <td>146552.000000</td>\n",
       "      <td>146311.000000</td>\n",
       "      <td>146311.000000</td>\n",
       "      <td>146552.000000</td>\n",
       "    </tr>\n",
       "    <tr>\n",
       "      <th>mean</th>\n",
       "      <td>91719.891738</td>\n",
       "      <td>40.583786</td>\n",
       "      <td>6.186934</td>\n",
       "      <td>191.602372</td>\n",
       "      <td>55.808716</td>\n",
       "    </tr>\n",
       "    <tr>\n",
       "      <th>std</th>\n",
       "      <td>76537.624535</td>\n",
       "      <td>35.367427</td>\n",
       "      <td>1.518196</td>\n",
       "      <td>51.817723</td>\n",
       "      <td>12.343909</td>\n",
       "    </tr>\n",
       "    <tr>\n",
       "      <th>min</th>\n",
       "      <td>1.000000</td>\n",
       "      <td>0.000000</td>\n",
       "      <td>0.000000</td>\n",
       "      <td>0.000000</td>\n",
       "      <td>1.000000</td>\n",
       "    </tr>\n",
       "    <tr>\n",
       "      <th>25%</th>\n",
       "      <td>23242.000000</td>\n",
       "      <td>0.000000</td>\n",
       "      <td>5.400000</td>\n",
       "      <td>153.000000</td>\n",
       "      <td>47.000000</td>\n",
       "    </tr>\n",
       "    <tr>\n",
       "      <th>50%</th>\n",
       "      <td>67989.000000</td>\n",
       "      <td>57.000000</td>\n",
       "      <td>5.800000</td>\n",
       "      <td>187.000000</td>\n",
       "      <td>56.000000</td>\n",
       "    </tr>\n",
       "    <tr>\n",
       "      <th>75%</th>\n",
       "      <td>150203.000000</td>\n",
       "      <td>69.000000</td>\n",
       "      <td>6.370000</td>\n",
       "      <td>225.000000</td>\n",
       "      <td>65.000000</td>\n",
       "    </tr>\n",
       "    <tr>\n",
       "      <th>max</th>\n",
       "      <td>526805.000000</td>\n",
       "      <td>666.000000</td>\n",
       "      <td>40.200000</td>\n",
       "      <td>810.000000</td>\n",
       "      <td>95.000000</td>\n",
       "    </tr>\n",
       "  </tbody>\n",
       "</table>\n",
       "</div>"
      ],
      "text/plain": [
       "         patients_id     heart_rate        glucose    cholesterol  \\\n",
       "count  146552.000000  146552.000000  146311.000000  146311.000000   \n",
       "mean    91719.891738      40.583786       6.186934     191.602372   \n",
       "std     76537.624535      35.367427       1.518196      51.817723   \n",
       "min         1.000000       0.000000       0.000000       0.000000   \n",
       "25%     23242.000000       0.000000       5.400000     153.000000   \n",
       "50%     67989.000000      57.000000       5.800000     187.000000   \n",
       "75%    150203.000000      69.000000       6.370000     225.000000   \n",
       "max    526805.000000     666.000000      40.200000     810.000000   \n",
       "\n",
       "                 age  \n",
       "count  146552.000000  \n",
       "mean       55.808716  \n",
       "std        12.343909  \n",
       "min         1.000000  \n",
       "25%        47.000000  \n",
       "50%        56.000000  \n",
       "75%        65.000000  \n",
       "max        95.000000  "
      ]
     },
     "execution_count": 12,
     "metadata": {},
     "output_type": "execute_result"
    }
   ],
   "source": [
    "df.describe()"
   ]
  },
  {
   "cell_type": "code",
   "execution_count": 13,
   "id": "7ad5f719-c1cf-42df-afc9-6ddcdc411016",
   "metadata": {},
   "outputs": [
    {
     "data": {
      "text/plain": [
       "patients_id                   0\n",
       "sex                           0\n",
       "rhythm                    37329\n",
       "p_wave_1                  60103\n",
       "p_wave_2                  60103\n",
       "p_wave_3                  60104\n",
       "t_wave_1                  60050\n",
       "t_wave_2                  60055\n",
       "t_wave_3                  60062\n",
       "t_wave_4                  60516\n",
       "qrs                       60164\n",
       "qrs_interval              60329\n",
       "pq_interval               62625\n",
       "segment                   60243\n",
       "systole_duration_QRST     61722\n",
       "heart_rate                    0\n",
       "blood_group               50516\n",
       "rhesus_factor             50678\n",
       "description                1524\n",
       "bundle_branch_block       46563\n",
       "episode                  111456\n",
       "glucose                     241\n",
       "cholesterol                 241\n",
       "dead                          0\n",
       "age                           0\n",
       "dtype: int64"
      ]
     },
     "execution_count": 13,
     "metadata": {},
     "output_type": "execute_result"
    }
   ],
   "source": [
    "# Check for null values\n",
    "df.isnull().sum()"
   ]
  },
  {
   "cell_type": "code",
   "execution_count": 14,
   "id": "bcb12e12-f0fc-48ae-9e45-9dbd58594608",
   "metadata": {},
   "outputs": [
    {
     "name": "stdout",
     "output_type": "stream",
     "text": [
      "dead\n",
      "0    145889\n",
      "1       663\n",
      "Name: count, dtype: int64\n"
     ]
    }
   ],
   "source": [
    "# Convert 'dead' column to binary (0 for alive, 1 for dead)\n",
    "df['dead'] = df['dead'].map({'Нет': 0, 'Да': 1})\n",
    "print(df['dead'].value_counts())"
   ]
  },
  {
   "cell_type": "markdown",
   "id": "40097223-4c5d-4adf-bc93-d430741d42df",
   "metadata": {},
   "source": [
    " "
   ]
  },
  {
   "cell_type": "markdown",
   "id": "a56e7cd0-d3f4-4d77-845f-985541547f77",
   "metadata": {},
   "source": [
    "#### 4. Feature Engineering"
   ]
  },
  {
   "cell_type": "code",
   "execution_count": 15,
   "id": "24a8b791-3aac-40bc-8be5-ebeec9098d37",
   "metadata": {},
   "outputs": [
    {
     "name": "stdout",
     "output_type": "stream",
     "text": [
      "                                         description episode  heart_rate  \\\n",
      "0  Ритм синусовый, правильный. Синусовая брадикар...     NaN          49   \n",
      "1  Ритм синусовый. Политопные экстрасистолы из а-...     NaN          70   \n",
      "2  Ритм синусовый. Политопные экстрасистолы из а-...     NaN          70   \n",
      "3  Замедление внутри жел. проводимости.В остально...     NaN           0   \n",
      "4  Замедление внутри жел. проводимости.В остально...     NaN           0   \n",
      "\n",
      "   extracted_heart_rate  \n",
      "0                   NaN  \n",
      "1                   NaN  \n",
      "2                   NaN  \n",
      "3                   NaN  \n",
      "4                   NaN  \n",
      "   heart_rate  extracted_heart_rate\n",
      "0          49                  49.0\n",
      "1          70                  70.0\n",
      "2          70                  70.0\n",
      "3           0                   0.0\n",
      "4           0                   0.0\n"
     ]
    }
   ],
   "source": [
    "# Define a function to extract heart rate from text since the heart_rate is 0 but in the description it has a value more than that\n",
    "def extract_heart_rate(text):\n",
    "    # Check if the text is a valid string and contains 'ЧСС' followed by a number\n",
    "    if isinstance(text, str):\n",
    "        match = re.search(r'чсс\\s*(\\d+)', text.lower())  # Match 'ЧСС' followed by a number\n",
    "        if match:\n",
    "            return int(match.group(1))  # Extract the heart rate value as an integer\n",
    "    return None  # Return None if no heart rate value is found\n",
    "\n",
    "# Apply this function to the 'description' and 'episode' columns to extract heart rate values\n",
    "df['extracted_heart_rate'] = df['description'].apply(extract_heart_rate)\n",
    "\n",
    "# In case 'description' column didn't have a value, look for 'episode' column\n",
    "df['extracted_heart_rate'] = df['extracted_heart_rate'].combine_first(df['episode'].apply(extract_heart_rate))\n",
    "\n",
    "# Now let's see how many heart rates were extracted\n",
    "print(df[['description', 'episode', 'heart_rate', 'extracted_heart_rate']].head())\n",
    "\n",
    "# Update 'extracted_heart_rate' with values from 'heart_rate' where 'extracted_heart_rate' is NaN\n",
    "df['extracted_heart_rate'] = np.where(df['extracted_heart_rate'].isna(), df['heart_rate'], df['extracted_heart_rate'])\n",
    "\n",
    "# Verify the updated extracted_heart_rate column\n",
    "print(df[['heart_rate', 'extracted_heart_rate']].head())"
   ]
  },
  {
   "cell_type": "code",
   "execution_count": 16,
   "id": "6f660bd0-07ee-49d3-aef7-3b4f5a13d381",
   "metadata": {},
   "outputs": [
    {
     "name": "stdout",
     "output_type": "stream",
     "text": [
      "      rhythm  extracted_heart_rate_from_rhythm  extracted_heart_rate\n",
      "0  синусовый                               NaN                  49.0\n",
      "1  синусовый                               NaN                  70.0\n",
      "2  синусовый                               NaN                  70.0\n",
      "3  синусовый                               NaN                   0.0\n",
      "4  синусовый                               NaN                   0.0\n"
     ]
    }
   ],
   "source": [
    "# Define a function to extract heart rate from text (looking for 'ЧСС' or similar patterns)\n",
    "def extract_heart_rate_from_rhythm(text):\n",
    "    # Check if the text is a valid string and contains 'ЧСС' followed by a number\n",
    "    if isinstance(text, str):\n",
    "        match = re.search(r'чсс\\s*(\\d+)', text.lower())  # Match 'ЧСС' followed by a number\n",
    "        if match:\n",
    "            return int(match.group(1))  # Extract the heart rate value as an integer\n",
    "    return None  # Return None if no heart rate value is found\n",
    "\n",
    "# Extract heart rate from 'rhythm' column ---\n",
    "df['extracted_heart_rate_from_rhythm'] = df['rhythm'].apply(extract_heart_rate_from_rhythm)\n",
    "\n",
    "# Update 'extracted_heart_rate' with the values from 'rhythm' if available ---\n",
    "df['extracted_heart_rate'] = np.where(df['extracted_heart_rate'].isna(), df['extracted_heart_rate_from_rhythm'], df['extracted_heart_rate'])\n",
    "\n",
    "# Verify the updated 'extracted_heart_rate' column ---\n",
    "print(df[['rhythm', 'extracted_heart_rate_from_rhythm', 'extracted_heart_rate']].head())"
   ]
  },
  {
   "cell_type": "code",
   "execution_count": 17,
   "id": "99aecf2c-4c4e-4e97-9ddf-89602f5e19da",
   "metadata": {},
   "outputs": [],
   "source": [
    "# Drop the 'heart_rate' and 'extracted_heart_rate_from_rhythm' columns\n",
    "df.drop(columns=['heart_rate', 'extracted_heart_rate_from_rhythm'], inplace=True)"
   ]
  },
  {
   "cell_type": "code",
   "execution_count": 18,
   "id": "8d6c3176-2f41-4096-a3f4-53054a291dd7",
   "metadata": {},
   "outputs": [
    {
     "name": "stdout",
     "output_type": "stream",
     "text": [
      "   p_wave_1  p_wave_2  p_wave_3  t_wave_1  t_wave_2  t_wave_3  t_wave_4\n",
      "0       1.0       1.0       1.0       1.0       1.0       1.0      -1.0\n",
      "1       1.0       1.0       1.0       1.0       1.0       1.0      -1.0\n",
      "2       1.0       1.0       1.0       1.0       1.0       1.0      -1.0\n",
      "3       1.0       1.0       1.0       1.0       1.0       1.0      -1.0\n",
      "4       1.0       1.0       1.0       1.0       1.0       1.0      -1.0\n"
     ]
    }
   ],
   "source": [
    "# Function to standardize wave text safely and clean non-standard values\n",
    "def standardize_wave_text(text):\n",
    "    if isinstance(text, str):  # Ensure we only process strings\n",
    "        # Lowercase and clean unnecessary spaces or hyphens\n",
    "        text = text.strip().lower()\n",
    "        \n",
    "        # Handle known non-standard text values\n",
    "        if \"сглажен\" in text or \"сглажены\" in text:\n",
    "            return \"smooth\"  \n",
    "        if \"инверсия\" in text or \"инвертирован\" in text:\n",
    "            return \"inversion\"  \n",
    "        if \"изоэл.\" in text or \"изоэлектрический\" in text:\n",
    "            return \"isoel\"  \n",
    "        if \"к+\" in text or \"p-mitrale\" in text:\n",
    "            return \"p_mitrale\"\n",
    "        if \"нет\" in text:\n",
    "            return \"no_wave\" \n",
    "    return text if isinstance(text, str) else ''  \n",
    "\n",
    "# List of wave-related columns (modify this if necessary to select correct wave columns)\n",
    "wave_columns = [col for col in df.columns if \"wave\" in col]  \n",
    "\n",
    "# Define the wave symbol to numeric mapping\n",
    "wave_mapping = {\n",
    "    '--': -2,\n",
    "    '---': -3,\n",
    "    '-': -1,\n",
    "    '+-': 0,\n",
    "    '+': 1,\n",
    "    '++': 2,\n",
    "    '+++': 3,\n",
    "    'smooth': 0,  # Assign 'smooth' as neutral/0 \n",
    "    'inversion': -1,  # Inversion typically suggests abnormality, so negative\n",
    "    'isoel': 0,  # Isoelectric, considered neutral \n",
    "    'p_mitrale': 1,  \n",
    "    'no_wave': np.nan  # 'no wave' is treated as missing/NaN\n",
    "}\n",
    "\n",
    "# Updated regex pattern to match +, -, ++, --, +++, --- symbols (ignoring extra text)\n",
    "pattern = re.compile(r'(--|\\+\\+|---|\\+\\+\\+|[-+]{1,2})')\n",
    "\n",
    "\n",
    "for col in wave_columns:\n",
    "    # Handle missing values by replacing NaN with an empty string for standardization\n",
    "    df[col] = df[col].fillna('')  # Replace NaN values with an empty string\n",
    "\n",
    "    # Standardizing text in the wave columns\n",
    "    df[col] = df[col].apply(standardize_wave_text)\n",
    "\n",
    "    # Use regex to extract and clean symbols (+, -, ++, --, etc.)\n",
    "    df[col] = df[col].apply(lambda x: pattern.findall(x)[0] if pattern.findall(x) else '')\n",
    "\n",
    "    # Mapping wave symbols and cleaned descriptions to numeric values\n",
    "    df[col] = df[col].map(wave_mapping)\n",
    "\n",
    "    # After mapping, fill remaining NaN values (for unmatched symbols or descriptions) with the median\n",
    "    df[col] = df[col].fillna(df[col].median())\n",
    "\n",
    "# Verify the changes\n",
    "print(df[wave_columns].head())"
   ]
  },
  {
   "cell_type": "code",
   "execution_count": 19,
   "id": "6fc84253-08f2-4b4f-8329-b2102707e5e0",
   "metadata": {},
   "outputs": [
    {
     "name": "stdout",
     "output_type": "stream",
     "text": [
      "   qrs_interval  pq_interval  systole_duration_QRST\n",
      "0          0.08         0.14                   0.40\n",
      "1          0.09         0.19                   0.41\n",
      "2          0.09         0.19                   0.41\n",
      "3           NaN          NaN                    NaN\n",
      "4           NaN          NaN                    NaN\n"
     ]
    }
   ],
   "source": [
    "# List of columns containing values with \"сек\" (seconds)\n",
    "time_columns = ['qrs_interval', 'pq_interval', 'systole_duration_QRST']\n",
    "\n",
    "# Function to clean time-related columns by extracting numeric values and removing extra text\n",
    "def extract_numeric_value(text):\n",
    "    # Check if the value is a string\n",
    "    if isinstance(text, str):\n",
    "        # Use regex to extract the numeric value (allows decimals too)\n",
    "        match = re.search(r'(\\d+\\.?\\d*)', text)\n",
    "        if match:\n",
    "            return float(match.group(1))  # Convert the matched number to a float\n",
    "    return np.nan  # Return NaN if no numeric value is found\n",
    "\n",
    "# Apply the cleaning function to each of the columns\n",
    "for col in time_columns:\n",
    "    df[col] = df[col].apply(extract_numeric_value)\n",
    "\n",
    "# Verify the changes\n",
    "print(df[time_columns].head())"
   ]
  },
  {
   "cell_type": "markdown",
   "id": "7eaf0f80-e071-47ad-9045-10796c631100",
   "metadata": {},
   "source": [
    "#### Using spaCy"
   ]
  },
  {
   "cell_type": "code",
   "execution_count": 21,
   "id": "a7e1ff13-5056-4378-9ab2-a7fa3b5c9a46",
   "metadata": {},
   "outputs": [
    {
     "name": "stdout",
     "output_type": "stream",
     "text": [
      "      rhythm rhythm_cleaned  heart_rate\n",
      "0  синусовый      синусовый         NaN\n",
      "1  синусовый      синусовый         NaN\n",
      "2  синусовый      синусовый         NaN\n",
      "3  синусовый      синусовый         NaN\n",
      "4  синусовый      синусовый         NaN\n"
     ]
    }
   ],
   "source": [
    "# Function to clean rhythm column, remove extra punctuation, simplify repeated phrases, and extract heart rate\n",
    "def clean_rhythm_and_extract_heart_rate(text):\n",
    "    if isinstance(text, str):\n",
    "        # Convert the text to lowercase\n",
    "        text = text.lower().strip()\n",
    "        \n",
    "        # Remove periods and extra spaces\n",
    "        text = text.replace(\".\", \"\").strip()\n",
    "        \n",
    "        # Remove repeated phrases like \"синусовый синусовый\" and keep one instance\n",
    "        text = re.sub(r'\\b(\\w+)\\s+\\1\\b', r'\\1', text)\n",
    "\n",
    "        # Use NLP to parse the text\n",
    "        doc = nlp(text)\n",
    "\n",
    "        # Extract heart rate (ЧСС) if present and move it to a separate column\n",
    "        heart_rate = np.nan  # Default to NaN\n",
    "\n",
    "        # Extract ЧСС or heart rate and remove it from the rhythm description\n",
    "        heart_rate_match = re.search(r'чсс\\s*(\\d+)', text, re.IGNORECASE)\n",
    "        if heart_rate_match:\n",
    "            heart_rate = int(heart_rate_match.group(1))\n",
    "            text = re.sub(r'чсс\\s*\\d+', '', text)  # Remove the heart rate from the rhythm text\n",
    "\n",
    "        # Look for other formats like \"с ЧСС\" followed by a number\n",
    "        heart_rate_match = re.search(r'с\\s*чсс\\s*(\\d+)\\s*(?:в\\s*мин|уд/мин)', text, re.IGNORECASE)\n",
    "        if heart_rate_match:\n",
    "            heart_rate = int(heart_rate_match.group(1))\n",
    "            text = re.sub(r'с\\s*чсс\\s*\\d+\\s*(?:в\\s*мин|уд/мин)', '', text)  # Remove heart rate from the rhythm\n",
    "\n",
    "        # Simplify the rhythm description: Keep only meaningful words (like \"синусовый\")\n",
    "        tokens = [token.text for token in doc if token.pos_ in ['NOUN', 'ADJ']]\n",
    "        \n",
    "        # Keep only the first two meaningful words\n",
    "        cleaned_text = \" \".join(tokens[:2])  # Limit to the first two meaningful words\n",
    "\n",
    "        # Remove unwanted units like \"в мин\", \"уд/мин\", or other irrelevant terms\n",
    "        cleaned_text = re.sub(r'\\b(в\\s*мин|уд/мин)\\b', '', cleaned_text)\n",
    "\n",
    "        # Return cleaned text and extracted heart rate\n",
    "        return cleaned_text.strip(), heart_rate\n",
    "\n",
    "    return text, np.nan  # Return original text and NaN if it's not a string\n",
    "\n",
    "# Apply the cleaning function to the 'rhythm' column\n",
    "df['rhythm_cleaned'], df['heart_rate'] = zip(*df['rhythm'].apply(clean_rhythm_and_extract_heart_rate))\n",
    "\n",
    "# Verify the changes\n",
    "print(df[['rhythm', 'rhythm_cleaned', 'heart_rate']].head())\n"
   ]
  },
  {
   "cell_type": "code",
   "execution_count": 22,
   "id": "aefd0ac5-9597-4ebe-9d62-c2569389322b",
   "metadata": {},
   "outputs": [
    {
     "name": "stdout",
     "output_type": "stream",
     "text": [
      "    qrs_cleaned bundle_branch_block_cleaned rhesus_factor_cleaned\n",
      "0  not_deformed                  horizontal              positive\n",
      "1  not_deformed                      normal              positive\n",
      "2  not_deformed                      normal              positive\n",
      "3       unknown              left_deviation              positive\n",
      "4       unknown              left_deviation              positive\n"
     ]
    }
   ],
   "source": [
    "# Clean and Apply Mapping for Wave Columns ---\n",
    "\n",
    "# Helper function to clean text (convert to lowercase, remove extra spaces, and periods)\n",
    "def clean_text(text):\n",
    "    if isinstance(text, str):\n",
    "        text = text.lower()\n",
    "        text = re.sub(r'\\s+', ' ', text).strip()  # Normalize spaces and strip leading/trailing spaces\n",
    "        text = re.sub(r'\\.$', '', text)  # Remove period only at the end of the string\n",
    "        return text\n",
    "    return ''  # Return empty string if text is not a string\n",
    "\n",
    "# Mapping Dictionaries\n",
    "qrs_mapping = {\n",
    "    'деформирован': 'deformed',\n",
    "    'не деформирован': 'not_deformed',\n",
    "    'q': 'q_wave',\n",
    "    'позиционн': 'position',\n",
    "    'низкий': 'low_voltage',\n",
    "    'рср': 'rsr',\n",
    "    'unknown': 'unknown'\n",
    "}\n",
    "\n",
    "bundle_branch_block_mapping = {\n",
    "    'нормальное': 'normal',\n",
    "    'горизонтальное': 'horizontal',\n",
    "    'резкое отклонение влево': 'sharp_left_deviation',\n",
    "    'отклонение влево': 'left_deviation',\n",
    "    'вертикальное': 'vertical',\n",
    "    'эос тип s1-s2-s3': 'eos_s1_s2_s3',\n",
    "    'резкое отклонение вправо': 'sharp_right_deviation',\n",
    "    'отклонение вправо': 'right_deviation',\n",
    "    'unknown': 'unknown'\n",
    "}\n",
    "\n",
    "rhesus_mapping = {\n",
    "    'положительный': 'positive',\n",
    "    'отрицательный': 'negative'\n",
    "}\n",
    "\n",
    "# Apply the mapping to columns\n",
    "df['qrs_cleaned'] = df['qrs'].apply(lambda x: qrs_mapping.get(clean_text(x), 'unknown'))\n",
    "df['bundle_branch_block_cleaned'] = df['bundle_branch_block'].apply(lambda x: bundle_branch_block_mapping.get(clean_text(x), 'unknown'))\n",
    "df['rhesus_factor_cleaned'] = df['rhesus_factor'].apply(lambda x: rhesus_mapping.get(clean_text(x), 'unknown'))\n",
    "\n",
    "# --- Step 2: Drop Original Columns ---\n",
    "# Drop the original columns to avoid confusion\n",
    "df.drop(columns=['qrs', 'bundle_branch_block', 'rhesus_factor'], inplace=True)\n",
    "\n",
    "# Verify the changes\n",
    "print(df[['qrs_cleaned', 'bundle_branch_block_cleaned', 'rhesus_factor_cleaned']].head())\n"
   ]
  },
  {
   "cell_type": "markdown",
   "id": "8301f380-c0d9-4e71-bbcf-6623bf0b7b7c",
   "metadata": {},
   "source": [
    "#### Using one-hot encoder on categorical Columns"
   ]
  },
  {
   "cell_type": "code",
   "execution_count": 23,
   "id": "e3c5970d-dabf-4849-8d84-282e81fefa67",
   "metadata": {},
   "outputs": [],
   "source": [
    "# Initialize the LabelEncoder\n",
    "label_encoder = LabelEncoder()\n",
    "\n",
    "df['qrs_cleaned'] = label_encoder.fit_transform(df['qrs_cleaned'].fillna(''))  # Filling NaN with empty string\n",
    "df['sex'] = label_encoder.fit_transform(df['sex'].fillna(''))\n",
    "df['rhesus_factor_cleaned'] = label_encoder.fit_transform(df['rhesus_factor_cleaned'].fillna(''))\n",
    "df['bundle_branch_block_cleaned'] = label_encoder.fit_transform(df['bundle_branch_block_cleaned'].fillna(''))\n",
    "df['blood_group'] = label_encoder.fit_transform(df['bundle_branch_block_cleaned'].fillna(''))"
   ]
  },
  {
   "cell_type": "code",
   "execution_count": 24,
   "id": "42887a16-e1c5-400a-b577-2c09b8d89cc7",
   "metadata": {},
   "outputs": [
    {
     "data": {
      "text/plain": [
       "patients_id                         0\n",
       "sex                                 0\n",
       "rhythm                          37329\n",
       "p_wave_1                            0\n",
       "p_wave_2                            0\n",
       "p_wave_3                            0\n",
       "t_wave_1                            0\n",
       "t_wave_2                            0\n",
       "t_wave_3                            0\n",
       "t_wave_4                            0\n",
       "qrs_interval                    60332\n",
       "pq_interval                     64409\n",
       "segment                         60243\n",
       "systole_duration_QRST           62484\n",
       "blood_group                         0\n",
       "description                      1524\n",
       "episode                        111456\n",
       "glucose                           241\n",
       "cholesterol                       241\n",
       "dead                                0\n",
       "age                                 0\n",
       "extracted_heart_rate                0\n",
       "rhythm_cleaned                  37329\n",
       "heart_rate                     146225\n",
       "qrs_cleaned                         0\n",
       "bundle_branch_block_cleaned         0\n",
       "rhesus_factor_cleaned               0\n",
       "dtype: int64"
      ]
     },
     "execution_count": 24,
     "metadata": {},
     "output_type": "execute_result"
    }
   ],
   "source": [
    "df.isnull().sum()"
   ]
  },
  {
   "cell_type": "code",
   "execution_count": 25,
   "id": "5863e538-0a1a-458c-aefd-478d3cc809af",
   "metadata": {},
   "outputs": [],
   "source": [
    "# Drop the 'rhythm'columns\n",
    "df.drop(columns=['rhythm'], inplace=True)"
   ]
  },
  {
   "cell_type": "markdown",
   "id": "0c17c669-56de-4ec8-884f-9a7fe147017d",
   "metadata": {},
   "source": [
    "#### Data Exploration"
   ]
  },
  {
   "cell_type": "code",
   "execution_count": 26,
   "id": "76f3be9a-2466-4a94-aa6c-8e49f8e5e478",
   "metadata": {},
   "outputs": [
    {
     "data": {
      "image/png": "[encoded data removed]",
      "text/plain": [
       "<Figure size 1200x800 with 6 Axes>"
      ]
     },
     "metadata": {},
     "output_type": "display_data"
    }
   ],
   "source": [
    "# List of numerical columns to inspect\n",
    "numerical_columns = ['age', 'extracted_heart_rate', 'cholesterol', 'glucose', 'qrs_interval', 'pq_interval']\n",
    "\n",
    "# Plotting histograms to visualize the distributions\n",
    "plt.figure(figsize=(12, 8))\n",
    "for i, col in enumerate(numerical_columns, 1):\n",
    "    plt.subplot(2, 3, i)  # Create subplots for each numerical column\n",
    "    sns.histplot(df[col], kde=True, bins=30)\n",
    "    plt.title(f\"Distribution of {col}\")\n",
    "    plt.tight_layout()\n",
    "\n",
    "plt.show()"
   ]
  },
  {
   "cell_type": "code",
   "execution_count": 27,
   "id": "c58711b9-4522-49af-8e3d-afcf2f749c8e",
   "metadata": {},
   "outputs": [
    {
     "data": {
      "image/png": "[encoded data removed]",
      "text/plain": [
       "<Figure size 1200x800 with 6 Axes>"
      ]
     },
     "metadata": {},
     "output_type": "display_data"
    }
   ],
   "source": [
    "# Box plots to identify potential outliers\n",
    "plt.figure(figsize=(12, 8))\n",
    "for i, col in enumerate(numerical_columns, 1):\n",
    "    plt.subplot(2, 3, i)  # Create subplots for each numerical column\n",
    "    sns.boxplot(x=df[col])\n",
    "    plt.title(f\"Boxplot of {col}\")\n",
    "    plt.tight_layout()\n",
    "\n",
    "plt.show()"
   ]
  },
  {
   "cell_type": "code",
   "execution_count": 28,
   "id": "eb129544-3b04-4303-ac7f-fd259617494f",
   "metadata": {},
   "outputs": [
    {
     "name": "stdout",
     "output_type": "stream",
     "text": [
      "        patients_id  sex  p_wave_1  p_wave_2  p_wave_3  t_wave_1  t_wave_2  \\\n",
      "480           14367    1       1.0       1.0       1.0       1.0       1.0   \n",
      "583           36315    1       1.0       1.0       1.0       1.0       1.0   \n",
      "681            8557    1       1.0       1.0       1.0       1.0       1.0   \n",
      "1423          14367    1       1.0       1.0       1.0       1.0       1.0   \n",
      "2046          22088    0       1.0       1.0       1.0       1.0       1.0   \n",
      "...             ...  ...       ...       ...       ...       ...       ...   \n",
      "143603       146891    1       1.0       1.0       1.0       1.0       1.0   \n",
      "143851        61649    1       1.0       1.0       1.0       1.0       1.0   \n",
      "144539        69452    1       1.0       1.0       1.0       1.0       1.0   \n",
      "144723        69452    1       1.0       1.0       1.0       1.0       1.0   \n",
      "145567       226490    0      -2.0      -2.0      -2.0       1.0       1.0   \n",
      "\n",
      "        t_wave_3  t_wave_4  qrs_interval  ...  glucose cholesterol  dead  \\\n",
      "480          1.0      -1.0          0.09  ...     5.14       178.0     0   \n",
      "583          1.0      -1.0          0.12  ...     5.40       248.0     0   \n",
      "681          1.0      -1.0          0.08  ...     6.23       254.0     0   \n",
      "1423         1.0      -1.0          0.09  ...     5.14       178.0     0   \n",
      "2046         1.0      -1.0          0.08  ...     5.63       162.0     0   \n",
      "...          ...       ...           ...  ...      ...         ...   ...   \n",
      "143603       1.0      -1.0          0.09  ...     5.20       203.0     0   \n",
      "143851       1.0      -1.0          0.15  ...     5.39       177.0     0   \n",
      "144539       1.0      -1.0           NaN  ...     5.11       149.0     0   \n",
      "144723       1.0      -1.0          0.10  ...     5.11       149.0     0   \n",
      "145567       1.0      -1.0          0.09  ...     5.42       207.0     0   \n",
      "\n",
      "         age extracted_heart_rate          rhythm_cleaned  heart_rate  \\\n",
      "480     17.0                 61.0               синусовый         NaN   \n",
      "583     14.0                 48.0               синусовый         NaN   \n",
      "681     17.0                 69.0               синусовый         NaN   \n",
      "1423    17.0                 67.0               синусовый         NaN   \n",
      "2046    17.0                 84.0               синусовый         NaN   \n",
      "...      ...                  ...                     ...         ...   \n",
      "143603   7.0                 86.0               синусовый         NaN   \n",
      "143851  35.0                159.0   трепетание предсердий         NaN   \n",
      "144539  10.0                  0.0               синусовый         NaN   \n",
      "144723  10.0                 71.0               синусовый         NaN   \n",
      "145567  65.0                159.0  фибрилляция предсердий         NaN   \n",
      "\n",
      "        qrs_cleaned  bundle_branch_block_cleaned  rhesus_factor_cleaned  \n",
      "480               1                            8                      0  \n",
      "583               0                            8                      1  \n",
      "681               1                            8                      2  \n",
      "1423              1                            8                      0  \n",
      "2046              1                            3                      2  \n",
      "...             ...                          ...                    ...  \n",
      "143603            1                            8                      1  \n",
      "143851            1                            5                      1  \n",
      "144539            2                            7                      0  \n",
      "144723            1                            3                      0  \n",
      "145567            0                            5                      2  \n",
      "\n",
      "[517 rows x 26 columns]\n"
     ]
    }
   ],
   "source": [
    "# Calculate z-scores for numerical columns\n",
    "z_scores = df[numerical_columns].apply(zscore)\n",
    "\n",
    "# Identify rows with z-scores greater than 3 or less than -3 (outliers)\n",
    "outliers = (z_scores > 3) | (z_scores < -3)\n",
    "\n",
    "# Display the rows where outliers were detected\n",
    "outliers_rows = df[outliers.any(axis=1)]\n",
    "print(outliers_rows)"
   ]
  },
  {
   "cell_type": "markdown",
   "id": "c56be427-4cc2-4809-bbe2-a483f722cb40",
   "metadata": {
    "scrolled": true
   },
   "source": [
    "From the boxplots we can observe several potential outliers in the numerical features:\n",
    "\n",
    "Age:\n",
    "\n",
    "We see values for age outside of the main range, represented by dots outside the whiskers. These outliers likely correspond to extreme ages (either very young or very old), which might represent unusual or rare cases.\n",
    "Possible Explanation: These could be incorrect data entries (e.g., a person being listed around 120 years old) or simply rare occurrences (e.g., a patient in an extreme age bracket).\n",
    "\n",
    "Extracted Heart Rate:\n",
    "\n",
    "The extracted_heart_rate boxplot has many outliers above 200. This could be due to some patients having very high heart rates recorded in the description and episode columns (i.e., extracted values above the normal physiological range).\n",
    "Possible Explanation: This might indicate data from patients with tachycardia or a measurement error.\n",
    "\n",
    "Cholesterol:\n",
    "\n",
    "The cholesterol boxplot shows a significant number of outliers above 500. The whiskers extend well above the upper quartile, suggesting values are extremely high for some patients.\n",
    "Possible Explanation: These could represent patients with hypercholesterolemia (high cholesterol) or data errors where cholesterol values were incorrectly recorded.\n",
    "\n",
    "Glucose:\n",
    "\n",
    "The glucose boxplot shows outliers in the low range, indicating a significant number of records with very low glucose values (close to or below 0).\n",
    "Possible Explanation: This could be a data issue where glucose levels were incorrectly entered (e.g., a measurement error). Alternatively, these could indicate patients with severe hypoglycemia.\n",
    "\n",
    "QRS Interval:\n",
    "\n",
    "The qrs_interval boxplot has outliers at higher values, indicating long intervals. This could reflect certain abnormal ECG patterns, but could also be data issues.\n",
    "Possible Explanation: Long QRS intervals may indicate bundle branch blocks or cardiac conduction issues, but outliers might also be due to incorrect data entry."
   ]
  },
  {
   "cell_type": "markdown",
   "id": "176e0c03-2847-4e4d-88ae-7f7c99639ef5",
   "metadata": {},
   "source": [
    "#### 4. Model Development"
   ]
  },
  {
   "cell_type": "markdown",
   "id": "65d600fa-798c-437f-976e-b224b1124eda",
   "metadata": {},
   "source": [
    "#### Imputation"
   ]
  },
  {
   "cell_type": "code",
   "execution_count": 30,
   "id": "7c0c7cdf-a7fc-48fd-8b13-5a1f5d6856b3",
   "metadata": {
    "scrolled": true
   },
   "outputs": [
    {
     "name": "stdout",
     "output_type": "stream",
     "text": [
      "patients_id                    0\n",
      "sex                            0\n",
      "p_wave_1                       0\n",
      "p_wave_2                       0\n",
      "p_wave_3                       0\n",
      "t_wave_1                       0\n",
      "t_wave_2                       0\n",
      "t_wave_3                       0\n",
      "t_wave_4                       0\n",
      "qrs_interval                   0\n",
      "pq_interval                    0\n",
      "segment                        0\n",
      "systole_duration_QRST          0\n",
      "blood_group                    0\n",
      "description                    0\n",
      "episode                        0\n",
      "glucose                        0\n",
      "cholesterol                    0\n",
      "dead                           0\n",
      "age                            0\n",
      "extracted_heart_rate           0\n",
      "rhythm_cleaned                 0\n",
      "heart_rate                     0\n",
      "qrs_cleaned                    0\n",
      "bundle_branch_block_cleaned    0\n",
      "rhesus_factor_cleaned          0\n",
      "dtype: int64\n"
     ]
    }
   ],
   "source": [
    "# Impute Missing Numerical Columns with Median (for columns like 'glucose', 'cholesterol', etc.)\n",
    "numerical_columns = df.select_dtypes(include=['number']).columns\n",
    "numerical_imputer = SimpleImputer(strategy='median')\n",
    "\n",
    "# Impute numerical columns\n",
    "df[numerical_columns] = numerical_imputer.fit_transform(df[numerical_columns])\n",
    "\n",
    "# Impute Missing Categorical Columns with Mode\n",
    "categorical_columns = df.select_dtypes(include=['object']).columns\n",
    "categorical_imputer = SimpleImputer(strategy='most_frequent')\n",
    "\n",
    "# Impute categorical columns\n",
    "df[categorical_columns] = categorical_imputer.fit_transform(df[categorical_columns])\n",
    "\n",
    "# KNN Imputation for Numerical Columns\n",
    "# KNN imputation for numerical columns to fill missing or erroneous values based on k-nearest neighbors\n",
    "knn_imputer = KNNImputer(n_neighbors=5)\n",
    "df[numerical_columns] = knn_imputer.fit_transform(df[numerical_columns])\n",
    "\n",
    "# Step 4: Verify the changes\n",
    "print(df.isnull().sum())\n"
   ]
  },
  {
   "cell_type": "code",
   "execution_count": 31,
   "id": "019fc3fb-47db-4d0f-b654-6da4211602da",
   "metadata": {},
   "outputs": [
    {
     "data": {
      "text/plain": [
       "Index(['segment', 'description', 'episode', 'rhythm_cleaned'], dtype='object')"
      ]
     },
     "execution_count": 31,
     "metadata": {},
     "output_type": "execute_result"
    }
   ],
   "source": [
    "df.select_dtypes(include=['object']).columns"
   ]
  },
  {
   "cell_type": "code",
   "execution_count": 32,
   "id": "87610f0d-bf2b-46b5-ab37-e8173407f0de",
   "metadata": {},
   "outputs": [
    {
     "data": {
      "text/plain": [
       "Index(['patients_id', 'sex', 'p_wave_1', 'p_wave_2', 'p_wave_3', 't_wave_1',\n",
       "       't_wave_2', 't_wave_3', 't_wave_4', 'qrs_interval', 'pq_interval',\n",
       "       'systole_duration_QRST', 'blood_group', 'glucose', 'cholesterol',\n",
       "       'dead', 'age', 'extracted_heart_rate', 'heart_rate', 'qrs_cleaned',\n",
       "       'bundle_branch_block_cleaned', 'rhesus_factor_cleaned'],\n",
       "      dtype='object')"
      ]
     },
     "execution_count": 32,
     "metadata": {},
     "output_type": "execute_result"
    }
   ],
   "source": [
    "df.select_dtypes(include=['number']).columns"
   ]
  },
  {
   "cell_type": "code",
   "execution_count": 33,
   "id": "16a1347e-3c25-4ad9-9948-a48c2614050c",
   "metadata": {},
   "outputs": [
    {
     "name": "stdout",
     "output_type": "stream",
     "text": [
      "dead\n",
      "0.0    145889\n",
      "1.0       663\n",
      "Name: count, dtype: int64\n"
     ]
    }
   ],
   "source": [
    "# Count the number of samples in each class\n",
    "print(df['dead'].value_counts())\n",
    "\n",
    "# Undersample the majority class (dead = 0)\n",
    "df_majority = df[df['dead'] == 0]\n",
    "df_minority = df[df['dead'] == 1]"
   ]
  },
  {
   "cell_type": "code",
   "execution_count": 34,
   "id": "92eafe38-0452-4dc8-b230-10f1fbb5a81a",
   "metadata": {
    "scrolled": true
   },
   "outputs": [
    {
     "name": "stdout",
     "output_type": "stream",
     "text": [
      "dead\n",
      "0.0    663\n",
      "1.0    663\n",
      "Name: count, dtype: int64\n"
     ]
    }
   ],
   "source": [
    "# Undersample majority class to match the minority class\n",
    "df_majority_undersampled = df_majority.sample(n=len(df_minority), random_state=42)\n",
    "\n",
    "# Combine minority class with undersampled majority class\n",
    "df_undersampled = pd.concat([df_majority_undersampled, df_minority])\n",
    "\n",
    "# Check the new class distribution\n",
    "print(df_undersampled['dead'].value_counts())"
   ]
  },
  {
   "cell_type": "markdown",
   "id": "d8a626d3-b5c2-4e13-bf20-31c5b2625ba3",
   "metadata": {},
   "source": [
    "#### Combine numerical and ECG features"
   ]
  },
  {
   "cell_type": "code",
   "execution_count": 36,
   "id": "8e9ce61e-30e3-4c8d-a514-f4b74f0347b4",
   "metadata": {},
   "outputs": [],
   "source": [
    "# List of numerical columns for model training\n",
    "numerical_columns = ['age', 'extracted_heart_rate', 'cholesterol', 'glucose', 'blood_group', 'rhesus_factor_cleaned']\n",
    "                     \n",
    "# List of ECG features for model training\n",
    "ecg_features = ['p_wave_1', 'p_wave_2', 'p_wave_3', 't_wave_1', 't_wave_2', 't_wave_3', 't_wave_4', 'qrs_cleaned', 'qrs_interval', 'pq_interval', 'systole_duration_QRST', 'qrs_cleaned', 'bundle_branch_block_cleaned']\n",
    "\n",
    "# # Combine numerical and ECG features\n",
    "X = df_undersampled[ecg_features + numerical_columns].values"
   ]
  },
  {
   "cell_type": "markdown",
   "id": "2d24d5cf-ee22-45f9-b217-8d6db2bd7f4e",
   "metadata": {},
   "source": [
    "# List of numerical columns for model training\n",
    "numerical_columns = ['age', 'extracted_heart_rate', 'cholesterol', 'glucose', 'blood_group', 'rhesus_factor_cleaned']\n",
    "                     \n",
    "# List of ECG features for model training\n",
    "ecg_features = ['p_wave_1', 'p_wave_2', 'p_wave_3', 't_wave_1', 't_wave_2', 't_wave_3', 't_wave_4', 'qrs_cleaned', 'qrs_interval', 'pq_interval', 'systole_duration_QRST', 'qrs_cleaned', 'bundle_branch_block_cleaned']\n",
    "\n",
    "# # Combine numerical and ECG features\n",
    "X = df[ecg_features + numerical_columns].values"
   ]
  },
  {
   "cell_type": "code",
   "execution_count": 37,
   "id": "3935c532-9a1b-490a-86c4-c33ca4a995e0",
   "metadata": {},
   "outputs": [],
   "source": [
    "# Standardize the Numerical Features\n",
    "scaler = StandardScaler()\n",
    "X_scaled = scaler.fit_transform(X)"
   ]
  },
  {
   "cell_type": "code",
   "execution_count": 39,
   "id": "d9daeeb0-e11b-4ed3-bf89-b584a9e0a8d7",
   "metadata": {},
   "outputs": [],
   "source": [
    "# Handle Class Imbalance using SMOTE\n",
    "y = df_undersampled['dead'].values  # Target variable (binary: 0 for alive, 1 for dead)"
   ]
  },
  {
   "cell_type": "markdown",
   "id": "fdcae8be-0bb1-4ebb-8727-139b5170b8e3",
   "metadata": {},
   "source": [
    "y = df['dead'].values  # Target variable (binary: 0 for alive, 1 for dead)"
   ]
  },
  {
   "cell_type": "markdown",
   "id": "2477cc72-a195-4f1f-a07c-cbf241eb9f88",
   "metadata": {},
   "source": [
    "#### Using SMOTE"
   ]
  },
  {
   "cell_type": "code",
   "execution_count": 40,
   "id": "47af718c-aee3-411a-b4d3-b154296ca67c",
   "metadata": {},
   "outputs": [
    {
     "name": "stderr",
     "output_type": "stream",
     "text": [
      "C:\\Users\\Nirmal\\AppData\\Roaming\\Python\\Python312\\site-packages\\sklearn\\base.py:474: FutureWarning: `BaseEstimator._validate_data` is deprecated in 1.6 and will be removed in 1.7. Use `sklearn.utils.validation.validate_data` instead. This function becomes public and is part of the scikit-learn developer API.\n",
      "  warnings.warn(\n",
      "C:\\Users\\Nirmal\\AppData\\Roaming\\Python\\Python312\\site-packages\\sklearn\\utils\\_tags.py:354: FutureWarning: The SMOTE or classes from which it inherits use `_get_tags` and `_more_tags`. Please define the `__sklearn_tags__` method, or inherit from `sklearn.base.BaseEstimator` and/or other appropriate mixins such as `sklearn.base.TransformerMixin`, `sklearn.base.ClassifierMixin`, `sklearn.base.RegressorMixin`, and `sklearn.base.OutlierMixin`. From scikit-learn 1.7, not defining `__sklearn_tags__` will raise an error.\n",
      "  warnings.warn(\n"
     ]
    }
   ],
   "source": [
    "# Apply SMOTE to handle class imbalance\n",
    "smote = SMOTE(random_state=42)\n",
    "X_resampled, y_resampled = smote.fit_resample(X_scaled, y)"
   ]
  },
  {
   "cell_type": "markdown",
   "id": "b0a1e254-ac09-4b28-b43c-03973ef1f001",
   "metadata": {},
   "source": [
    "#### Train-Test Split"
   ]
  },
  {
   "cell_type": "code",
   "execution_count": 41,
   "id": "23b7d171-49f3-4093-8ecc-b8cf35366df5",
   "metadata": {},
   "outputs": [],
   "source": [
    "# Train-Test Split\n",
    "# Split the resampled data into training and testing sets\n",
    "X_train, X_test, y_train, y_test = train_test_split(X_resampled, y_resampled, test_size=0.2, random_state=42)"
   ]
  },
  {
   "cell_type": "code",
   "execution_count": 42,
   "id": "11a69094-4c9a-4346-99d1-6e0753ef2a8b",
   "metadata": {},
   "outputs": [
    {
     "name": "stdout",
     "output_type": "stream",
     "text": [
      "0:\tlearn: 0.5764203\ttotal: 167ms\tremaining: 2m 46s\n",
      "200:\tlearn: 0.0108497\ttotal: 1.4s\tremaining: 5.56s\n",
      "400:\tlearn: 0.0103398\ttotal: 3.26s\tremaining: 4.87s\n",
      "600:\tlearn: 0.0099828\ttotal: 5.01s\tremaining: 3.33s\n",
      "800:\tlearn: 0.0094579\ttotal: 6.76s\tremaining: 1.68s\n",
      "999:\tlearn: 0.0091421\ttotal: 8.51s\tremaining: 0us\n"
     ]
    },
    {
     "data": {
      "text/plain": [
       "<catboost.core.CatBoostClassifier at 0x207ca3f9c70>"
      ]
     },
     "execution_count": 42,
     "metadata": {},
     "output_type": "execute_result"
    }
   ],
   "source": [
    "# --- Step 5: Model Training ---\n",
    "# Calculate scale_pos_weight as the ratio of the number of negative samples to positive samples\n",
    "scale_pos_weight = len(y) / (2 * y.sum())\n",
    "\n",
    "# XGBoost Model with class weighting\n",
    "xg_model = xgb.XGBClassifier(scale_pos_weight=scale_pos_weight, random_state=42)\n",
    "xg_model.fit(X_train, y_train)\n",
    "\n",
    "# # XGBoost Model\n",
    "# xg_model = xgb.XGBClassifier(use_label_encoder=False, eval_metric='mlogloss', random_state=42)\n",
    "# xg_model.fit(X_train, y_train)\n",
    "\n",
    "# Define class weights for CatBoost\n",
    "class_weights = {0: 1, 1: 220}  # Since `dead = 0` is 220 times more frequent than `dead = 1`\n",
    "\n",
    "# CatBoost Model with class weighting\n",
    "catboost_model = CatBoostClassifier(iterations=1000, depth=10, learning_rate=0.05, loss_function='Logloss', class_weights=class_weights, verbose=200)\n",
    "catboost_model.fit(X_train, y_train)\n",
    "\n",
    "\n",
    "# # CatBoost Model\n",
    "# catboost_model = CatBoostClassifier(iterations=1000, depth=10, learning_rate=0.05, loss_function='Logloss', verbose=200)\n",
    "# catboost_model.fit(X_train, y_train)"
   ]
  },
  {
   "cell_type": "markdown",
   "id": "f227625b-d2d2-4c6c-b747-277c765dac4f",
   "metadata": {},
   "source": [
    "#### 5. Model Evaluation"
   ]
  },
  {
   "cell_type": "code",
   "execution_count": 43,
   "id": "ccc416da-ec85-473a-acb6-53346baaea95",
   "metadata": {},
   "outputs": [
    {
     "name": "stdout",
     "output_type": "stream",
     "text": [
      "XGBoost Evaluation:\n",
      "              precision    recall  f1-score   support\n",
      "\n",
      "         0.0       1.00      1.00      1.00       135\n",
      "         1.0       1.00      1.00      1.00       131\n",
      "\n",
      "    accuracy                           1.00       266\n",
      "   macro avg       1.00      1.00      1.00       266\n",
      "weighted avg       1.00      1.00      1.00       266\n",
      "\n",
      "AUC-ROC: 1.0\n",
      "CatBoost Evaluation:\n",
      "              precision    recall  f1-score   support\n",
      "\n",
      "         0.0       1.00      0.45      0.62       135\n",
      "         1.0       0.64      1.00      0.78       131\n",
      "\n",
      "    accuracy                           0.72       266\n",
      "   macro avg       0.82      0.73      0.70       266\n",
      "weighted avg       0.82      0.72      0.70       266\n",
      "\n",
      "AUC-ROC: 0.9787390443878994\n"
     ]
    }
   ],
   "source": [
    "# XGBoost Evaluation\n",
    "y_pred_xg = xg_model.predict(X_test)\n",
    "y_pred_proba_xg = xg_model.predict_proba(X_test)[:, 1]\n",
    "print(\"XGBoost Evaluation:\")\n",
    "print(classification_report(y_test, y_pred_xg))\n",
    "print(f\"AUC-ROC: {roc_auc_score(y_test, y_pred_proba_xg)}\")\n",
    "\n",
    "# CatBoost Evaluation\n",
    "y_pred_catboost = catboost_model.predict(X_test)\n",
    "y_pred_proba_catboost = catboost_model.predict_proba(X_test)[:, 1]\n",
    "print(\"CatBoost Evaluation:\")\n",
    "print(classification_report(y_test, y_pred_catboost))\n",
    "print(f\"AUC-ROC: {roc_auc_score(y_test, y_pred_proba_catboost)}\")"
   ]
  },
  {
   "cell_type": "code",
   "execution_count": null,
   "id": "69b18520-4b20-4f77-9b82-e099e6964253",
   "metadata": {},
   "outputs": [],
   "source": []
  },
  {
   "cell_type": "markdown",
   "id": "e423a533-9942-4e7e-93ff-c0a70c949347",
   "metadata": {},
   "source": [
    "#### 6. Results and Discussion\n",
    "\n",
    "Both XGBoost and CatBoost demonstrated strong performance, achieving high AUC-ROC scores. However, challenges were encountered with the minority class (deceased patients) due to class imbalance.\n",
    "\n",
    "SMOTE was applied to generate synthetic data for the minority class, balancing the dataset and improving model performance.\n",
    "Class Weighting was also used to penalize the misclassification of the minority class more heavily, further improving recall for the deceased class.\n",
    "Despite the improvements, there are still challenges because the dataset needs to be improved"
   ]
  },
  {
   "cell_type": "markdown",
   "id": "175ce292-b080-48cf-b708-3d3dc427e7be",
   "metadata": {},
   "source": [
    "#### 7. Conclusion and Future Work\n",
    "\n",
    "Conclusion:\n",
    "XGBoost and CatBoost are effective models for predicting heart disease risk from clinical data.\n",
    "Techniques such as SMOTE and class weighting helped mitigate class imbalance and improved model performance on the minority class.\n",
    "\n",
    "Future Work:\n",
    "Implement more advanced deep learning models like LSTM and CNN for better handling of sequential ECG signal data.\n",
    "Expand the dataset with more diverse patient data to improve model generalization and real-world applicability.\n",
    "Integrate real-time ECG monitoring for continuous heart disease detection and improve the model’s practical utility."
   ]
  },
  {
   "cell_type": "code",
   "execution_count": null,
   "id": "a0f53a43-663d-4e2d-8a90-f246276fd380",
   "metadata": {},
   "outputs": [],
   "source": []
  },
  {
   "cell_type": "code",
   "execution_count": null,
   "id": "8d4dadd6-a055-49d2-ba43-3deaee5d92a4",
   "metadata": {},
   "outputs": [],
   "source": []
  }
 ],
 "metadata": {
  "kernelspec": {
   "display_name": "Python 3 (ipykernel)",
   "language": "python",
   "name": "python3"
  },
  "language_info": {
   "codemirror_mode": {
    "name": "ipython",
    "version": 3
   },
   "file_extension": ".py",
   "mimetype": "text/x-python",
   "name": "python",
   "nbconvert_exporter": "python",
   "pygments_lexer": "ipython3",
   "version": "3.12.7"
  }
 },
 "nbformat": 4,
 "nbformat_minor": 5
}
